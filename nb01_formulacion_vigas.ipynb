{
 "cells": [
  {
   "cell_type": "markdown",
   "metadata": {
    "raw_mimetype": "text/latex"
   },
   "source": [
    "Contenido bajo licencia Creative Commons BY 4.0 y código bajo licencia MIT. © Juan Gómez y Nicolás Guarín-Zapata 2020. Este material es parte del curso Modelación Computacional en el programa de Ingeniería Civil de la Universidad EAFIT."
   ]
  },
  {
   "cell_type": "markdown",
   "metadata": {},
   "source": [
    "# Pórticos planos"
   ]
  },
  {
   "cell_type": "markdown",
   "metadata": {},
   "source": [
    "## Introducción\n",
    "\n",
    "\n",
    "En secciones anteriores se resolvieron sistemas mecánicos de masas conectadas por resortes y sometidas a cargas puntuales. El método de solución se basa en la formulación de las ecuaciones de equilibrio par cada una de las masas en las cuales las fuerzas sobre estas se expresan en términos de los deplazamientos de las mismas. Posteriormente esta estrategia de solución se extendió al caso en el que los resortes  (o barras) se encuentran, aúnque en el plano, orientados en direcciones arbitrarias.\n",
    "\n",
    "<center>\n",
    "    <img src=\"img/cercha_ejemplo.svg\"\n",
    "         alt=\"Viga en el sistema de referencia local\"\n",
    "         style=\"width:400px\">\n",
    "</center>\n",
    "\n",
    "\n",
    "En este caso la única complicación adicional consiste en que se hace necesario expresar todas las fuerzas sobre las masas en un sistema de referencia común (el sistema global) por medio de una rotación como:\n",
    "\n",
    "$$F =\\lambda^T f$$\n",
    "\n",
    "donde:\n",
    "\n",
    "* $f$: fuerzas nodales en el sistema de referencia local.\n",
    "\n",
    "* $F$: fuerzas nodales en el sistema de referencia global.\n",
    "\n",
    "* $\\lambda$: Matriz de transformación bajo rotación del sistema de referencia local al global.\n",
    "\n",
    "## Estructuras aporticadas\n",
    "\n",
    "Esta misma ídea puede extenderse al caso de elementos con comportamientos cinemáticos mas complejos. En particlar en este Notebook cubriremos **sistemas estructurales** conformados por ensamblajes de elementos tipo viga los cuales permiten llevar cargas distribuidas a los nudos (o masas) del ensamblaje (ver figura). En el caso de las vigas las cargas son transmitidas a los nodos en términos de fuerzas axiales, transversales y momentos.\n",
    "\n",
    "<center>\n",
    "    <img src=\"img/portico_clase.png\"\n",
    "         alt=\"Viga en el sistema de referencia local\"\n",
    "         style=\"width:600px\">\n",
    "</center>\n",
    "\n",
    "En este Notebook se agregan 2 elementos tipo viga. Como primer caso se considera solamente la respuesta a flexión por lo que las únicas fuerzas relevantes en los nodos son fuerzas transversales y momentos. En un segundo elemento se considera también la deformación axial introduciendo por lo tanto una fuerza adicional en la dirección longitudinal del elemento.\n",
    "\n",
    "**(Nota: El modelo de viga que se discute en este notebook corresponde a un modelo de Euler-Bernoulli en el cual se desprecian las deformaciones por cortante y por lo tanto es  válido para elementos con secciones transversales de baja esbeltez.)**\n",
    "\n",
    "**Al completar este notebook usted debería estar en la capacidad de:**\n",
    "\n",
    "* Reconocer las modificaciones necesarias para convertir un programa fundamental de ensamblaje de resortes en uno para estructuras conformadas por vigas.\n",
    "\n",
    "* Resolver problemas simples de estructuras conformadas por vigas sometidas a cargas puntuales."
   ]
  },
  {
   "cell_type": "markdown",
   "metadata": {},
   "source": [
    "### Viga (sin deformación axial)\n",
    "\n",
    "En la figura se muestra un elemento tipo viga en sus sistema de referencia local $x-y$. En cada nudo (o extremo) del elemento se tiene un desplazmiento transvrsal al elemento $v_i$ y una rotación $\\theta_i$ al rededor del eje perpendicular al plano de la figura. Por lo tanto en su sistema de referencia local este elemento tiene 4 grados de libertad en total.\n",
    "\n",
    "<center>\n",
    "    <img src=\"img/viga_local.svg\"\n",
    "         alt=\"Viga en el sistema de referencia local\"\n",
    "         style=\"width:400px\">\n",
    "</center>\n",
    "\n",
    "El vector de grados de libertad del elemento en su sistema de referencia local es:\n",
    "\n",
    "$$\n",
    "u^T=\\begin{bmatrix}v_1 &\\theta_1 &v_2 &\\theta_2\\end{bmatrix}\n",
    "$$\n",
    "\n",
    "mientras que el vector de fuerzas (momentos y cortantes) esta dado por:\n",
    "\n",
    "$$\n",
    "f^T=\\begin{bmatrix}f_1 &m_1 &f_2 &m_2\\end{bmatrix}.\n",
    "$$\n",
    "\n",
    "De manera similar a las relaciones fuerza-desplazamiento para el caso de resortes en este caso podemos escribir:\n",
    "\n",
    "$$\n",
    "\\begin{Bmatrix} f_1\\\\ m_1\\\\ f_2\\\\ m_2\\end{Bmatrix} =\n",
    "\\begin{bmatrix}\n",
    "12\\frac{EI}{\\mathcal l^3} &6\\frac{EI}{\\mathcal l^3} &-12\\frac{EI}{\\mathcal l^3} &6\\frac{EI}{\\mathcal l^2}\\\\\n",
    "6\\frac{EI}{\\mathcal l^3}&4\\frac{EI}{\\mathcal l}&-6\\frac{EI}{\\mathcal l^2}&2\\frac{EI}{\\mathcal l}\\\\\n",
    "-12\\frac{EI}{\\mathcal l^3}&-6\\frac{EI}{\\mathcal l^2}&12\\frac{EI}{\\mathcal l^3}&-6\\frac{EI}{\\mathcal l^2}\\\\\n",
    "6\\frac{EI}{\\mathcal l^2}&2\\frac{EI}{\\mathcal l}&-6\\frac{EI}{\\mathcal l^2}&4\\frac{EI}{\\mathcal l}\n",
    "\\end{bmatrix}\n",
    "\\begin{Bmatrix} v_1\\\\ \\theta_1\\\\ v_2\\\\ \\theta_2\\end{Bmatrix}\n",
    "$$\n",
    "\n",
    "\n",
    "\n",
    "\n",
    "<div class=\"alert alert-info\">\n",
    "\n",
    "**Nota:** La matriz de rigidez puede formularse por diferentes métodos que serán cubiertos en el curso de Análisis de Estructuras.\n",
    "\n",
    "</div>\n",
    "\n",
    "Considerando la posibilidad de que en la estructura se tengan elementos en diferentes orientaciones y por lo tanto con fuerzas nodales expresadas en diferentes sistemas de referencia es necesario, antes de proceder con el planteamiento de las ecuaciones de equilibrio de cada masa, llevar todas las fuerzas nodales a un sistema de referencia comun, denotado acá como $X-Y$. Esta relación entre fuerzas, correspondiente a una transformación bajo rotación de vectores puede escribirse como ya se indicó mediante la relación:\n",
    "\n",
    "$$F =\\lambda^T f$$\n",
    "\n",
    "donde $\\lambda$ es la matriz de transformación bajo rotación. Para escribir las fuerezas en términos de desplazamientos usamos las ecuaciones:\n",
    "\n",
    "$$\n",
    "f=ku\n",
    "$$\n",
    "\n",
    "y\n",
    "\n",
    "$$u = \\lambda U$$\n",
    "\n",
    "de manera que se tiene:\n",
    "\n",
    "$$F =\\lambda^T k \\lambda U \\equiv K U$$\n",
    "\n",
    "y en la cual reconocemos:\n",
    "\n",
    "\n",
    "$$K = \\lambda^T k\\lambda$$\n",
    "\n",
    "como la matriz de rigidez del elemento en el sistema de referencia global.\n",
    "\n",
    "\n",
    "<div class=\"alert alert-warning\">\n",
    "\n",
    "Detereminar la matriz de transformación bajo rotación $\\lambda$ para el elemento viga sin deformación axial.\n",
    "\n",
    "</div>\n",
    "\n",
    "\n",
    "### Viga conisderando deformación axial.\n",
    "\n",
    "Si al elemento del caso anterior le permitimos además deformarse en su dirección longitudinal como se muestra en la figura mediante la adición de los dos grados de libertad $u_1$ y $u_2$\n",
    "\n",
    "\n",
    "<center>\n",
    "    <img src=\"img/barra_local.svg\"\n",
    "         alt=\"Viga en el sistema de referencia local\"\n",
    "         style=\"width:400px\">\n",
    "</center>\n",
    "\n",
    "\n",
    "entonces la relación fuerza-desplazamiento toma la forma\n",
    "\n",
    "$$\n",
    "\\begin{Bmatrix} p_1\\\\f_1\\\\ m_1\\\\ p_2\\\\f_2\\\\ m_2\\end{Bmatrix} =\n",
    "\\begin{bmatrix}\n",
    "\\frac{AE}{\\mathcal l} &0 &0 &-\\frac{AE}{\\mathcal l} &0&0\\\\\n",
    "0&12\\frac{EI}{\\mathcal l^3} &6\\frac{EI}{\\mathcal l^3} &0&-12\\frac{EI}{\\mathcal l^3} &6\\frac{EI}{\\mathcal l^2}\\\\\n",
    "0&6\\frac{EI}{\\mathcal l^3}&4\\frac{EI}{\\mathcal l}&0&-6\\frac{EI}{\\mathcal l^2}&2\\frac{EI}{\\mathcal l}\\\\\n",
    "-\\frac{AE}{\\mathcal l} &0 &0 &\\frac{AE}{\\mathcal l} &0&0\\\\\n",
    "0&-12\\frac{EI}{\\mathcal l^3}&-6\\frac{EI}{\\mathcal l^2}&0&12\\frac{EI}{\\mathcal l^3}&-6\\frac{EI}{\\mathcal l^2}\\\\\n",
    "0&6\\frac{EI}{\\mathcal l^2}&2\\frac{EI}{\\mathcal l}&0&-6\\frac{EI}{\\mathcal l^2}&4\\frac{EI}{\\mathcal l}\\\\\n",
    "\\end{bmatrix}\n",
    "\\begin{Bmatrix} u_1\\\\v_1\\\\ \\theta_1\\\\u_2\\\\ v_2\\\\ \\theta_2\\end{Bmatrix}\n",
    "$$\n",
    "\n",
    "Finalmente para plantear las ecuaciones de equilibrio de los nudos es necesario llevar todas las fuerzas al sistema de referencia global como en el caso anterior mediante la relación:\n",
    "\n",
    "$$F =K U$$\n",
    "\n",
    "donde, una vez mas:\n",
    "\n",
    "$$K = \\lambda^T k\\lambda$$\n",
    "\n",
    "\n",
    "\n",
    "<div class=\"alert alert-warning\">\n",
    "\n",
    "Detereminar la matriz de transformación bajo rotación $\\lambda$ para el elemento viga considerando deformación axial.\n",
    "\n",
    "</div>"
   ]
  },
  {
   "cell_type": "markdown",
   "metadata": {},
   "source": [
    "### Estructura aporticada simple\n",
    "\n",
    "Considere el siguiente modelo simple conformado por un ensamblaje de 2 elementos. (Los archivos de datos de entrada están disponibles en la carpeta `files`).\n",
    "\n",
    "\n",
    "<center>\n",
    "    <img src=\"img/portico_clase.png\"\n",
    "         alt=\"Viga en el sistema de referencia local\"\n",
    "         style=\"width:600px\">\n",
    "</center>\n",
    "\n",
    "\n",
    "Se requiere diseñar los elementos de manera que las tensiones no sobrepasen las resistencias $\\sigma_{c} = 2100 tf/m^2$ y $\\tau = 1000 tf/m^2$ a tensión normal y tensión cortante respectivamente."
   ]
  },
  {
   "cell_type": "markdown",
   "metadata": {},
   "source": [
    "<div class=\"alert alert-info\">\n",
    "\n",
    "Para resolver el problema se utilizarán las funciones del modulo `estructuras` el cual debe importarse antes de ejecutar los diferentes pasos del análisis.\n",
    "\n",
    "Los archivos de texto para este modelo estan alamecenados en la carpeta `files`.\n",
    "\n",
    "</div>\n"
   ]
  },
  {
   "cell_type": "code",
   "execution_count": 1,
   "metadata": {},
   "outputs": [],
   "source": [
    "%matplotlib inline\n",
    "import numpy as np\n",
    "import estructuras as est"
   ]
  },
  {
   "cell_type": "markdown",
   "metadata": {},
   "source": [
    "### Paso 1-creación del modelo\n",
    "\n",
    "El modelo se define en términos de 4 archivos de texto almacenando la información de los nudos, elementos, materiales y cargas. El formato de los 3 primeros archivos se muestra en la figura. Notese que los elementos se encuentran orientados en términos de un nudo inicial y un nudo final.\n",
    "\n",
    "\n",
    "<center>\n",
    "    <img src=\"img/modelo.png\"\n",
    "         alt=\"Viga en el sistema de referencia local\"\n",
    "         style=\"width:600px\">\n",
    "</center>"
   ]
  },
  {
   "cell_type": "markdown",
   "metadata": {},
   "source": [
    "### Paso 2-Archivo de cargas\n",
    "\n",
    "Sabiendo que el método de solución corresponde a las ecuaciones de equilibrio para los nudos de la estructura, es necesario convertir las cargas distribuidas a cargas nodales equivalentes mediante la aplicación de fuerzas de empotramiento consistentes con la distribución de cargas que sea del caso. Se determinan entonces las fuerzas necesarias para evitar que los nudos se desplacen por la aplicación de la carga distribuida y estas posteriormente se aplican como cargas nodales con valores iuales y direcciones opuestas como se muestra en la figura.\n",
    "\n",
    "<center>\n",
    "    <img src=\"img/cargas_equiv.png\"\n",
    "         alt=\"Viga en el sistema de referencia local\"\n",
    "         style=\"width:600px\">\n",
    "</center>\n"
   ]
  },
  {
   "cell_type": "code",
   "execution_count": 2,
   "metadata": {},
   "outputs": [],
   "source": [
    "def readin():\n",
    "    nodes    = np.loadtxt('files/eje1_nodes.txt', ndmin=2)\n",
    "    mats     = np.loadtxt('files/eje1_mater.txt', ndmin=2)\n",
    "    elements = np.loadtxt('files/eje1_eles.txt', ndmin=2)\n",
    "    loads    = np.loadtxt('files/eje1_loads.txt', ndmin=2)\n",
    "    return nodes, mats, elements, loads"
   ]
  },
  {
   "cell_type": "markdown",
   "metadata": {},
   "source": [
    "### Paso 3-ejecución del análisis\n",
    "\n",
    "Para la realización del análisis se realizan los siguientes pasos."
   ]
  },
  {
   "cell_type": "markdown",
   "metadata": {},
   "source": [
    "* Se lee el modelo y se carga en arreglos `nodes`, `mats`, `elements`y `loads`"
   ]
  },
  {
   "cell_type": "code",
   "execution_count": 3,
   "metadata": {},
   "outputs": [],
   "source": [
    "nodes, mats, elements, loads = readin()"
   ]
  },
  {
   "cell_type": "markdown",
   "metadata": {},
   "source": [
    "* Se determina la matriz indicadora de ecuaciones `DME_mat`."
   ]
  },
  {
   "cell_type": "code",
   "execution_count": 4,
   "metadata": {},
   "outputs": [],
   "source": [
    "DME_mat, IBC, neq = est.DME(nodes, elements)"
   ]
  },
  {
   "cell_type": "markdown",
   "metadata": {},
   "source": [
    "* Se ensambla la matriz de rigidez del sistema $K_G$ y el vector de cargas nodales aplicadas y equivalentes $F_G$"
   ]
  },
  {
   "cell_type": "code",
   "execution_count": 5,
   "metadata": {},
   "outputs": [],
   "source": [
    "KG = est.assembly(elements, mats, nodes, neq, DME_mat)\n",
    "RHSG = est.loadasem(loads, IBC, neq)"
   ]
  },
  {
   "cell_type": "markdown",
   "metadata": {},
   "source": [
    "* Se resuelve el sistema de ecuaciones $K_G U_G = F_G$ para determinar el vector de desplazamientos desconocidos $U_G$."
   ]
  },
  {
   "cell_type": "code",
   "execution_count": 6,
   "metadata": {},
   "outputs": [
    {
     "name": "stdout",
     "output_type": "stream",
     "text": [
      "[ 0.00046527 -0.0025968  -0.0020452 ]\n"
     ]
    }
   ],
   "source": [
    "UG = np.linalg.solve(KG, RHSG)\n",
    "print(UG)"
   ]
  },
  {
   "cell_type": "markdown",
   "metadata": {},
   "source": [
    "### Paso 4-postprocesado\n",
    "\n",
    "Conocidos los desplazamientos es posible determinar las fuerzas en los elementos tanto en coordenadas globales (para verificar condiciones de equilibrio) como en coordenadas locales (para encontrar diagrams de cortante y flexión).\n",
    "\n",
    "> 1. Forme un nuevo vector de desplazamientos almacenando ahora los recientemente encontrados en $U_G$ y los previamente conocidos e iguales a 0.0. Este nuevo vector lo denominaremos $U_c$.\n",
    "\n"
   ]
  },
  {
   "cell_type": "code",
   "execution_count": 7,
   "metadata": {},
   "outputs": [],
   "source": [
    "UC = est.complete_disp(IBC, nodes, UG)\n",
    "UC1D = UC.flatten()"
   ]
  },
  {
   "cell_type": "markdown",
   "metadata": {},
   "source": [
    "> 2. Determine las reacciones en el sistema de coordenadas globales formando el producto matricial:\n",
    "\n",
    "$$F_G = K_G U_G$$\n",
    "\n",
    "pero usando ahora una matriz de rigidez completa, ensamblada sin imponer condiciones de frontera. Para esto usamos una copia del archivo de nodos pero sin restringir ningún grado de libertad."
   ]
  },
  {
   "cell_type": "code",
   "execution_count": 8,
   "metadata": {},
   "outputs": [
    {
     "name": "stdout",
     "output_type": "stream",
     "text": [
      "[ 23.26329825   8.396637    -2.56473636   0.         -10.\n",
      " -16.67       -23.26329825   1.603363    -5.88571666]\n"
     ]
    }
   ],
   "source": [
    "nodes_free = np.loadtxt('files/eje1_nodes_free.txt', ndmin=2)\n",
    "DME_mat, IBC, neq = est.DME(nodes_free, elements)\n",
    "KG = est.assembly(elements, mats, nodes_free, neq, DME_mat)\n",
    "FG = np.dot(KG , UC1D)\n",
    "print(FG)"
   ]
  },
  {
   "cell_type": "markdown",
   "metadata": {},
   "source": [
    "> 3. Determine las fuerzas en los elementos en el sistema de coordenadas globales utilizando la ecuación:\n",
    "\n",
    "$$\n",
    "F = K U\n",
    "$$\n",
    "\n",
    "para cada elemento. Estas fuerzas son necesarias para la verifiación de equilibrio de los nodos."
   ]
  },
  {
   "cell_type": "code",
   "execution_count": 9,
   "metadata": {},
   "outputs": [
    {
     "data": {
      "text/plain": [
       "array([[ 23.26329825,   8.396637  ,  -2.56473636, -23.26329825,\n",
       "         -8.396637  ,  -6.52208665],\n",
       "       [ 23.26329825,  -1.603363  , -10.14791335, -23.26329825,\n",
       "          1.603363  ,  -5.88571666]])"
      ]
     },
     "execution_count": 9,
     "metadata": {},
     "output_type": "execute_result"
    }
   ],
   "source": [
    "FL = est.global_forces(elements, mats, nodes_free, neq, DME_mat , UC1D)\n",
    "FL"
   ]
  },
  {
   "cell_type": "markdown",
   "metadata": {},
   "source": [
    "> 4. Determine las fuerzas en los elementos en el sistema de coordenadas locales utilizando la ecuacion:\n",
    "\n",
    "$$\n",
    "f = k u\n",
    "$$\n",
    "\n",
    "para cada elemento. Estas fuerzas son necesarias para la realización de los diagramas de corte y de flexión."
   ]
  },
  {
   "cell_type": "code",
   "execution_count": 10,
   "metadata": {},
   "outputs": [
    {
     "data": {
      "text/plain": [
       "array([[ 24.71786287,  -0.84369034,  -2.56473636, -24.71786287,\n",
       "          0.84369034,  -6.52208665],\n",
       "       [ 23.26329825,  -1.603363  , -10.14791335, -23.26329825,\n",
       "          1.603363  ,  -5.88571666]])"
      ]
     },
     "execution_count": 10,
     "metadata": {},
     "output_type": "execute_result"
    }
   ],
   "source": [
    "FF = est.local_forces(elements, mats, nodes_free, neq, DME_mat , UC1D)\n",
    "FF"
   ]
  },
  {
   "cell_type": "markdown",
   "metadata": {},
   "source": [
    "<div class=\"alert alert-warning\">\n",
    "\n",
    "## Problemas propuestos\n",
    "\n",
    "1. Diseñar los elementos seleccionados del pórtico mostrado en la figura para que tengan un factor de seguridad $FS = 1.2$. Para el análisis asuma que se tienen las secciones transversales iniciales de la figura y que el material tiene resistencias a tensiones normales y cortantes $\\sigma_{c} = 2100 tf/m^2$ y $\\tau_c = 1000 tf/m^2$ respectivamente. (archivos:pro_1_*.txt )\n",
    "\n",
    "<center>\n",
    "    <img src=\"img/ejemplo_02.png\"\n",
    "         alt=\"Viga en el sistema de referencia local\"\n",
    "         style=\"width:400px\">\n",
    "</center>\n",
    "\n",
    "\n",
    "2. Para la estructura mostrada en la figura:\n",
    "    > * Determinar los desplazamientos nodales.    \n",
    "    > * Verificar el equlibrio del nudo libre.    \n",
    "    > * Graficar los diagramas de fuerzas internas del elemento horizontal.\n",
    "\n",
    "(archivos: pro_2_*.txt)\n",
    "\n",
    "<center>\n",
    "    <img src=\"img/rochel.png\"\n",
    "         alt=\"Viga en el sistema de referencia local\"\n",
    "         style=\"width:400px\">\n",
    "</center>\n",
    "\n",
    "3. Grafique los diagramas de fuerzas internas para los elementos horizontales del pórtico.(archivos: pro_3_*.txt)\n",
    "\n",
    "<center>\n",
    "    <img src=\"img/problema3.png\"\n",
    "         alt=\"Viga en el sistema de referencia local\"\n",
    "         style=\"width:400px\">\n",
    "</center>\n",
    "\n",
    "\n",
    "\n",
    "4. Para el pórtico mostrado en la figura:\n",
    "\n",
    "    > * Reparelo adicionando elementos y/o imponiendo restricciones apropiadas a los desplazamientos.\n",
    "    > * Determine la rigidez lateral de la estructura usando la expresión $k = \\frac{P}{\\delta}$.\n",
    "    > * Repotencie la estructura de tal forma que la rigidez lateral se incremente por un factor de 2.0.\n",
    "  \n",
    "<center>\n",
    "    <img src=\"img/portico_ejercicio.svg\"\n",
    "         alt=\"Esquema del pórtico para el ejercicio propuesto.\"\n",
    "         style=\"width:400px\">\n",
    "</center>\n",
    "\n",
    "</div>"
   ]
  },
  {
   "cell_type": "markdown",
   "metadata": {},
   "source": [
    "## Referencias"
   ]
  },
  {
   "cell_type": "markdown",
   "metadata": {},
   "source": [
    "* Roberto Rochel Awad (1995). Análisis Matricial de Estructuras. Editorial Universidad EAFIT.\n",
    "\n",
    "* Jairo Uribe Escamilla (2000). Análisis de Estructuras. Segunda Edición. Editorial Escueka Colombiana de Ingeniería.\n",
    "\n",
    "* R.C. Hibbeler (2012). Análisis Estructural. Octava Edición. Pearson.\n",
    "\n",
    "* Juan Gómez, Nicolás Guarín-Zapata (2018). SolidsPy: 2D-Finite Element Analysis with Python, <https://github.com/AppliedMechanics-EAFIT/SolidsPy>."
   ]
  },
  {
   "cell_type": "code",
   "execution_count": 11,
   "metadata": {},
   "outputs": [
    {
     "data": {
      "text/html": [
       "<link href=\"https://fonts.googleapis.com/css?family=Merriweather:300,300i,400,400i,700,700i,900,900i\" rel='stylesheet' >\n",
       "<link href=\"https://fonts.googleapis.com/css?family=Source+Sans+Pro:300,300i,400,400i,700,700i\" rel='stylesheet' >\n",
       "<link href='http://fonts.googleapis.com/css?family=Source+Code+Pro:300,400' rel='stylesheet' >\n",
       "<style>\n",
       "\n",
       "@font-face {\n",
       "    font-family: \"Computer Modern\";\n",
       "    src: url('http://mirrors.ctan.org/fonts/cm-unicode/fonts/otf/cmunss.otf');\n",
       "}\n",
       "\n",
       "\n",
       "#notebook_panel { /* main background */\n",
       "    background: rgb(245,245,245);\n",
       "}\n",
       "\n",
       "div.cell { /* set cell width */\n",
       "    width: 800px;\n",
       "}\n",
       "\n",
       "div #notebook { /* centre the content */\n",
       "    background: #fff; /* white background for content */\n",
       "    width: 1000px;\n",
       "    margin: auto;\n",
       "    padding-left: 0em;\n",
       "}\n",
       "\n",
       "#notebook li { /* More space between bullet points */\n",
       "margin-top:0.5em;\n",
       "}\n",
       "\n",
       "/* draw border around running cells */\n",
       "div.cell.border-box-sizing.code_cell.running { \n",
       "    border: 1px solid #111;\n",
       "}\n",
       "\n",
       "/* Put a solid color box around each cell and its output, visually linking them*/\n",
       "div.cell.code_cell {\n",
       "    background-color: rgb(256,256,256); \n",
       "    border-radius: 0px; \n",
       "    padding: 0.5em;\n",
       "    margin-left:1em;\n",
       "    margin-top: 1em;\n",
       "}\n",
       "\n",
       "\n",
       "div.text_cell_render{\n",
       "    font-family: 'Source Sans Pro', sans-serif;\n",
       "    line-height: 140%;\n",
       "    font-size: 110%;\n",
       "    width:680px;\n",
       "    margin-left:auto;\n",
       "    margin-right:auto;\n",
       "}\n",
       "\n",
       "/* Formatting for header cells */\n",
       ".text_cell_render h1 {\n",
       "    font-family: 'Merriweather', serif;\n",
       "    font-style:regular;\n",
       "    font-weight: bold;    \n",
       "    font-size: 250%;\n",
       "    line-height: 100%;\n",
       "    color: #004065;\n",
       "    margin-bottom: 1em;\n",
       "    margin-top: 0.5em;\n",
       "    display: block;\n",
       "}\t\n",
       ".text_cell_render h2 {\n",
       "    font-family: 'Merriweather', serif;\n",
       "    font-weight: bold; \n",
       "    font-size: 180%;\n",
       "    line-height: 100%;\n",
       "    color: #0096d6;\n",
       "    margin-bottom: 0.5em;\n",
       "    margin-top: 0.5em;\n",
       "    display: block;\n",
       "}\t\n",
       "\n",
       ".text_cell_render h3 {\n",
       "    font-family: 'Merriweather', serif;\n",
       "\tfont-size: 150%;\n",
       "    margin-top:12px;\n",
       "    margin-bottom: 3px;\n",
       "    font-style: regular;\n",
       "    color: #008367;\n",
       "}\n",
       "\n",
       ".text_cell_render h4 {    /*Use this for captions*/\n",
       "    font-family: 'Merriweather', serif;\n",
       "    font-weight: 300; \n",
       "    font-size: 100%;\n",
       "    line-height: 120%;\n",
       "    text-align: left;\n",
       "    width:500px;\n",
       "    margin-top: 1em;\n",
       "    margin-bottom: 2em;\n",
       "    margin-left: 80pt;\n",
       "    font-style: regular;\n",
       "}\n",
       "\n",
       ".text_cell_render h5 {  /*Use this for small titles*/\n",
       "    font-family: 'Source Sans Pro', sans-serif;\n",
       "    font-weight: regular;\n",
       "    font-size: 130%;\n",
       "    color: #e31937;\n",
       "    font-style: italic;\n",
       "    margin-bottom: .5em;\n",
       "    margin-top: 1em;\n",
       "    display: block;\n",
       "}\n",
       "\n",
       ".text_cell_render h6 { /*use this for copyright note*/\n",
       "    font-family: 'Source Code Pro', sans-serif;\n",
       "    font-weight: 300;\n",
       "    font-size: 9pt;\n",
       "    line-height: 100%;\n",
       "    color: grey;\n",
       "    margin-bottom: 1px;\n",
       "    margin-top: 1px;\n",
       "}\n",
       "\n",
       "    .CodeMirror{\n",
       "            font-family: \"Source Code Pro\";\n",
       "\t\t\tfont-size: 90%;\n",
       "    }\n",
       "/*    .prompt{\n",
       "        display: None;\n",
       "    }*/\n",
       "\t\n",
       "    \n",
       "    .warning{\n",
       "        color: rgb( 240, 20, 20 )\n",
       "        }  \n",
       "</style>\n",
       "<script>\n",
       "    MathJax.Hub.Config({\n",
       "                        TeX: {\n",
       "                           extensions: [\"AMSmath.js\"], \n",
       "                           equationNumbers: { autoNumber: \"AMS\", useLabelIds: true}\n",
       "                           },\n",
       "                tex2jax: {\n",
       "                    inlineMath: [ ['$','$'], [\"\\\\(\",\"\\\\)\"] ],\n",
       "                    displayMath: [ ['$$','$$'], [\"\\\\[\",\"\\\\]\"] ]\n",
       "                },\n",
       "                displayAlign: 'center', // Change this to 'center' to center equations.\n",
       "                \"HTML-CSS\": {\n",
       "                    styles: {'.MathJax_Display': {\"margin\": 4}}\n",
       "                }\n",
       "        });\n",
       "</script>\n"
      ],
      "text/plain": [
       "<IPython.core.display.HTML object>"
      ]
     },
     "execution_count": 11,
     "metadata": {},
     "output_type": "execute_result"
    }
   ],
   "source": [
    "from IPython.core.display import HTML\n",
    "def css_styling():\n",
    "    styles = open('estilo.css', 'r').read()\n",
    "    return HTML(styles)\n",
    "css_styling()"
   ]
  },
  {
   "cell_type": "code",
   "execution_count": null,
   "metadata": {},
   "outputs": [],
   "source": []
  }
 ],
 "metadata": {
  "celltoolbar": "Raw Cell Format",
  "kernelspec": {
   "display_name": "Python 3",
   "language": "python",
   "name": "python3"
  },
  "language_info": {
   "codemirror_mode": {
    "name": "ipython",
    "version": 3
   },
   "file_extension": ".py",
   "mimetype": "text/x-python",
   "name": "python",
   "nbconvert_exporter": "python",
   "pygments_lexer": "ipython3",
   "version": "3.7.1"
  },
  "varInspector": {
   "cols": {
    "lenName": 16,
    "lenType": 16,
    "lenVar": 40
   },
   "kernels_config": {
    "python": {
     "delete_cmd_postfix": "",
     "delete_cmd_prefix": "del ",
     "library": "var_list.py",
     "varRefreshCmd": "print(var_dic_list())"
    },
    "r": {
     "delete_cmd_postfix": ") ",
     "delete_cmd_prefix": "rm(",
     "library": "var_list.r",
     "varRefreshCmd": "cat(var_dic_list()) "
    }
   },
   "types_to_exclude": [
    "module",
    "function",
    "builtin_function_or_method",
    "instance",
    "_Feature"
   ],
   "window_display": false
  }
 },
 "nbformat": 4,
 "nbformat_minor": 1
}
